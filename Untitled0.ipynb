{
  "nbformat": 4,
  "nbformat_minor": 0,
  "metadata": {
    "colab": {
      "provenance": [],
      "authorship_tag": "ABX9TyPACJJwwQj7Pk11VdiE5LoX",
      "include_colab_link": true
    },
    "kernelspec": {
      "name": "python3",
      "display_name": "Python 3"
    },
    "language_info": {
      "name": "python"
    }
  },
  "cells": [
    {
      "cell_type": "markdown",
      "metadata": {
        "id": "view-in-github",
        "colab_type": "text"
      },
      "source": [
        "<a href=\"https://colab.research.google.com/github/aldihrp0712-netizen/Pemerograman-Dasar/blob/main/Untitled0.ipynb\" target=\"_parent\"><img src=\"https://colab.research.google.com/assets/colab-badge.svg\" alt=\"Open In Colab\"/></a>"
      ]
    },
    {
      "cell_type": "markdown",
      "source": [],
      "metadata": {
        "id": "yf4ViByHp22N"
      }
    },
    {
      "cell_type": "code",
      "execution_count": 24,
      "metadata": {
        "colab": {
          "base_uri": "https://localhost:8080/"
        },
        "id": "E2OHhUxyf5j4",
        "outputId": "7decf234-b818-4a78-ed00-6d5ceea4b7f2"
      },
      "outputs": [
        {
          "name": "stdout",
          "output_type": "stream",
          "text": [
            "-Berapa km jarak rumah ketempat tukang bakso:5.5\n",
            "-tempat tukang bakso ada di daerah mana:Nongsa\n",
            "-Berapa porsi makan yang Anda beli :0.5\n",
            "-Siapa Nama Pelanggan?:Aldi\n"
          ]
        }
      ],
      "source": [
        "#Data Float & str\n",
        "\n",
        "Jarak = float (input(\"-Berapa km jarak rumah ketempat tukang bakso:\"))\n",
        "Daerah = str (input(\"-tempat tukang bakso ada di daerah mana:\"))\n",
        "total = float (input(\"-Berapa porsi makan yang Anda beli :\"))\n",
        "Nama = str (input(\"-Siapa Nama Pelanggan?:\"))\n",
        "\n"
      ]
    },
    {
      "cell_type": "code",
      "source": [
        "# penggunaan berbagai macam karakter\n",
        "\n",
        "#Input\n",
        "\n",
        "game                      = \" mobile legends \"\n",
        "waktu_perkiraan_1game     =  20\n",
        "Lama_main_keseluruhan     =  80.0\n",
        "skor_game_hari_ini        = 255\n",
        "skor_game_hari_sebelumnya = 377\n",
        "\n",
        "food = \"Mi ayam bakso\" # Define food here\n",
        "\n",
        "#output\n",
        "print(\"Aldi main %s\" % game)\n",
        "print(\"lama main aldi \" + str(Lama_main_keseluruhan))\n",
        "print(\"lama main game aldi %s\" % (food))"
      ],
      "metadata": {
        "colab": {
          "base_uri": "https://localhost:8080/",
          "height": 109
        },
        "id": "stRGNJ2Akl-O",
        "outputId": "caa0a66d-c8b4-40f5-cd68-be2444a79e15"
      },
      "execution_count": 47,
      "outputs": [
        {
          "output_type": "error",
          "ename": "SyntaxError",
          "evalue": "invalid syntax (ipython-input-2548227041.py, line 6)",
          "traceback": [
            "\u001b[0;36m  File \u001b[0;32m\"/tmp/ipython-input-2548227041.py\"\u001b[0;36m, line \u001b[0;32m6\u001b[0m\n\u001b[0;31m    waktu_perkiraan_1game     =  20 menit\u001b[0m\n\u001b[0m                                    ^\u001b[0m\n\u001b[0;31mSyntaxError\u001b[0m\u001b[0;31m:\u001b[0m invalid syntax\n"
          ]
        }
      ]
    },
    {
      "cell_type": "code",
      "metadata": {
        "id": "fa9aab04"
      },
      "source": [
        "# Contoh penggunaan variabel\n",
        "\n",
        "print(f\"Pelanggan bernama {Nama} membeli {total} porsi bakso.\")\n",
        "print(f\"Jarak rumah {Nama} ke tempat bakso di daerah {Daerah} adalah {Jarak} km.\")"
      ],
      "execution_count": null,
      "outputs": []
    },
    {
      "cell_type": "code",
      "source": [
        "# Kalkulator sederhana\n",
        "a = 1000\n",
        "b = 1000\n",
        "\n",
        "#Output\n",
        "\n",
        "print(\"1.penjumlahan=\",a+b)\n",
        "print(\"2.pengurangan=\",a-b)\n",
        "print(\"3.perkalian=\",a*b)\n",
        "print(\"4.pembagian=\",a/b)"
      ],
      "metadata": {
        "colab": {
          "base_uri": "https://localhost:8080/"
        },
        "id": "RjKcbPnDnJ_F",
        "outputId": "ae956a15-5397-4b91-e3e5-017f8c4ba901"
      },
      "execution_count": 26,
      "outputs": [
        {
          "output_type": "stream",
          "name": "stdout",
          "text": [
            "1.penjumlahan= 2000\n",
            "2.pengurangan= 0\n",
            "3.perkalian= 1000000\n",
            "4.pembagian= 1.0\n"
          ]
        }
      ]
    },
    {
      "cell_type": "code",
      "source": [
        "#menegecek bilangan\n",
        "\n",
        "bilangan = 10\n",
        "hasil    = (bilangan > 0) and (bilangan % 2 == 0)\n",
        "hasil    = (bilangan > 0) and (bilangan % 2 == 0)\n",
        "\n",
        "#output\n",
        "print(\"1.Genap dan positif\", hasil)\n",
        "print(\"2.Genap dan positif\", hasil)"
      ],
      "metadata": {
        "colab": {
          "base_uri": "https://localhost:8080/"
        },
        "id": "wyZw6ijwo4IC",
        "outputId": "02222e23-2d23-4c43-b4de-a1812576da06"
      },
      "execution_count": 35,
      "outputs": [
        {
          "output_type": "stream",
          "name": "stdout",
          "text": [
            "1.Genap dan positif True\n",
            "2.Genap dan positif True\n"
          ]
        }
      ]
    },
    {
      "cell_type": "code",
      "source": [
        "#Kalkulator Kasir\n",
        "harga_makan = int (input(\"Berapa harga mi Ayam per porsi? = \"))\n",
        "jumlah_makan =int (input(\"Berapa porsi yang Anda beli? = \"))\n",
        "total_makan = harga_makan * Jumlah_makan\n",
        "\n",
        "#OUTPUT\n",
        "print(f\"Harga makan per porsi = {harga_makan}, totalnya adalah {total_makan}\")"
      ],
      "metadata": {
        "colab": {
          "base_uri": "https://localhost:8080/"
        },
        "id": "UqJNKZKgsx4f",
        "outputId": "3b412116-1a93-4768-9d0f-39897409b658"
      },
      "execution_count": 45,
      "outputs": [
        {
          "output_type": "stream",
          "name": "stdout",
          "text": [
            "Berapa harga mi Ayam per porsi? = 35000\n",
            "Berapa porsi yang Anda beli? = 5\n",
            "Harga makan per porsi = 35000, totalnya adalah 175000\n"
          ]
        }
      ]
    },
    {
      "cell_type": "code",
      "source": [
        "#Ekspresi\n"
      ],
      "metadata": {
        "id": "Tzl1jfYh2ZKR"
      },
      "execution_count": null,
      "outputs": []
    }
  ]
}