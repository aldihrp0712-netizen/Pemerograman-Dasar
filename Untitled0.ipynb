{
  "nbformat": 4,
  "nbformat_minor": 0,
  "metadata": {
    "colab": {
      "provenance": [],
      "authorship_tag": "ABX9TyOpfJExoUXARvCre9rcwNz7",
      "include_colab_link": true
    },
    "kernelspec": {
      "name": "python3",
      "display_name": "Python 3"
    },
    "language_info": {
      "name": "python"
    }
  },
  "cells": [
    {
      "cell_type": "markdown",
      "metadata": {
        "id": "view-in-github",
        "colab_type": "text"
      },
      "source": [
        "<a href=\"https://colab.research.google.com/github/aldihrp0712-netizen/Pemerograman-Dasar/blob/main/Untitled0.ipynb\" target=\"_parent\"><img src=\"https://colab.research.google.com/assets/colab-badge.svg\" alt=\"Open In Colab\"/></a>"
      ]
    },
    {
      "cell_type": "code",
      "execution_count": 5,
      "metadata": {
        "colab": {
          "base_uri": "https://localhost:8080/"
        },
        "id": "4Y0AEHVohilt",
        "outputId": "430b120e-06af-41f6-ff77-46fa2d721b64"
      },
      "outputs": [
        {
          "output_type": "stream",
          "name": "stdout",
          "text": [
            "Aldi Togar\n",
            "19\n",
            "pasaman,sumatera barat, 07-12-2005\n",
            "berenang\n",
            "Teknik Elektro\n",
            "RPE\n",
            "4232401018\n",
            "3\n",
            "Pemerograman Dasar\n",
            "False\n",
            "alditogaraldi@gmail.com\n",
            "085738415997\n",
            "togar07_\n"
          ]
        }
      ],
      "source": [
        "# Biodata Saya\n",
        "\n",
        "nama = \"Aldi Togar\"\n",
        "umur = 19\n",
        "tempat_tanggal_lahir = \"pasaman,sumatera barat, 07-12-2005\"\n",
        "hobi = \"berenang\"\n",
        "jurusan = 'Teknik Elektro'\n",
        "program_studi = \"RPE\"\n",
        "nim = \"4232401018\"\n",
        "semester = 3\n",
        "matakuliah = 'Pemerograman Dasar'\n",
        "status_lulus = False\n",
        "email = \"alditogaraldi@gmail.com\"\n",
        "no_telepon = \"085738415997\"\n",
        "instagram = \"togar07_\"\n",
        "\n",
        "\n",
        "\n",
        "print (nama)\n",
        "print (umur)\n",
        "print (tempat_tanggal_lahir)\n",
        "print (hobi)\n",
        "print (jurusan)\n",
        "print (program_studi)\n",
        "print (nim)\n",
        "print (semester)\n",
        "print (matakuliah)\n",
        "print (status_lulus)\n",
        "print (email)\n",
        "print (no_telepon)\n",
        "print (instagram)\n",
        "\n",
        "\n"
      ]
    }
  ]
}