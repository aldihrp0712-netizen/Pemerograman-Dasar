{
  "nbformat": 4,
  "nbformat_minor": 0,
  "metadata": {
    "colab": {
      "provenance": [],
      "authorship_tag": "ABX9TyMWBnfsznqQz0IQZGBy8Z4j",
      "include_colab_link": true
    },
    "kernelspec": {
      "name": "python3",
      "display_name": "Python 3"
    },
    "language_info": {
      "name": "python"
    }
  },
  "cells": [
    {
      "cell_type": "markdown",
      "metadata": {
        "id": "view-in-github",
        "colab_type": "text"
      },
      "source": [
        "<a href=\"https://colab.research.google.com/github/aldihrp0712-netizen/Pemerograman-Dasar/blob/main/Untitled0.ipynb\" target=\"_parent\"><img src=\"https://colab.research.google.com/assets/colab-badge.svg\" alt=\"Open In Colab\"/></a>"
      ]
    },
    {
      "cell_type": "code",
      "execution_count": 21,
      "metadata": {
        "colab": {
          "base_uri": "https://localhost:8080/"
        },
        "id": "lVOdEZiDdhC1",
        "outputId": "e027d049-94bc-478c-b92c-957b8a42af11"
      },
      "outputs": [
        {
          "output_type": "execute_result",
          "data": {
            "text/plain": [
              "34"
            ]
          },
          "metadata": {},
          "execution_count": 21
        }
      ],
      "source": [
        "# deklarasi variabel list\n",
        "numbers = [23,43,15,34]\n",
        "# cara mengakses elemen dan variabel list\n",
        "numbers [0] # 23\n",
        "numbers [1] # 43\n",
        "numbers [2] # 15\n",
        "numbers [3] # 34\n",
        "# cara mengubah nilai elemen dalam variabel list\n",
        "numbers [2] # 51\n",
        "numbers [2] # 51\n",
        "\n",
        "print (numbers[1]) #lakukan untuk setiap indexnya dan lihat hasilnya\n",
        "\n",
        "\n"
      ]
    },
    {
      "cell_type": "code",
      "source": [
        "# deklarasi variabel list numbers\n",
        "numbers = [1,2,3]\n",
        "\n",
        "# menambahkan elemen di indeks ke-4\n",
        "numbers.insert(4,5)  # [1, 2, 3, 5]\n",
        "\n",
        "# mengubah elemen di indeks ke-4\n",
        "numbers[3] = 4       # [1, 2, 3, 4]\n",
        "\n",
        "# menghapus elemen di indeks ke-2\n",
        "numbers.pop(2)       # [1, 2, 4]\n",
        "\n",
        "#print lalu lihat hasilnya\n",
        "\n"
      ],
      "metadata": {
        "id": "X5otg06Ymwun"
      },
      "execution_count": 13,
      "outputs": []
    },
    {
      "cell_type": "code",
      "source": [
        "# deklarasi variabel list numbers\n",
        "numbers = [1, 2, 3]\n",
        "\n",
        "# menambhakan elemen di indeks ke-4\n",
        "numbers.insert(4, 5) # [1, 2, 3, 5]\n",
        "\n",
        "# mengubah elemen di indeks ke-2\n",
        "numbers.pop(2) # [1, 2, 4]\n",
        "\n",
        "#print setiap hasil perubahan dan amati hasilnya\n"
      ],
      "metadata": {
        "id": "G9u2YH805jEu"
      },
      "execution_count": null,
      "outputs": []
    },
    {
      "cell_type": "code",
      "source": [
        "# deklarasi variabel list\n",
        "myList = [1,\"Rumah\", 4.5, True,[\"Kamar mandi\", \"Kamar mandi\"]]\n",
        "\n",
        "# cara mengakses elemen dalam variabel list\n",
        "myList [0] # 1\n",
        "myList [1] # \"Rumah\"\n",
        "myList [3] # True\n",
        "myList [4] # [\"Kamar mandi\", \"Kamar tidur\"]\n",
        "\n",
        "# cara mengakses elemen dalam sublist\n",
        "myList[4][0] # \"kamar tidur\"\n",
        "myList[4][1] # \"kamar tidur\"\n",
        "\n",
        "#lakukan print lalu amati hasilnya\n"
      ],
      "metadata": {
        "id": "1wJMa8KI7Nvz"
      },
      "execution_count": null,
      "outputs": []
    },
    {
      "cell_type": "code",
      "source": [
        "FirstName = \"Aldi\"\n",
        "LastName  = \"Togar\"\n",
        "Age       = 19\n",
        "isMarried = False\n",
        "\n",
        "# OUTPUT\n",
        "\n",
        "print (\"FirstName:\", FirstName)\n",
        "print (\"LastName:\", LastName)\n",
        "print (\"Age:\",Age)\n",
        "print (\"isMarried:\",isMarried)"
      ],
      "metadata": {
        "colab": {
          "base_uri": "https://localhost:8080/"
        },
        "id": "FXiIUM7PpqWI",
        "outputId": "cf11b458-1b2c-42b2-e05a-a9883e246117"
      },
      "execution_count": 13,
      "outputs": [
        {
          "output_type": "stream",
          "name": "stdout",
          "text": [
            "FirstName: Aldi\n",
            "LastName: Togar\n",
            "Age: 19\n",
            "isMarried: False\n"
          ]
        }
      ]
    },
    {
      "cell_type": "code",
      "source": [
        "# VARIABEL DICTIONARY\n",
        "\n",
        "data_diri = {\n",
        "    \"FirstName\" : \"Aldi\",\n",
        "    \"LastName\" : \"Togar\",\n",
        "    \"Age\" : 19,\n",
        "    \"isMarried\" : False\n",
        "}\n",
        "\n",
        "# OUTPUT DIOCTIONARY\n",
        "\n",
        "print (data_diri[\"FirstName\"])\n",
        "print (data_diri[\"LastName\"])\n",
        "print (data_diri[\"Age\"])\n",
        "print (data_diri[\"isMarried\"])"
      ],
      "metadata": {
        "id": "WC-e92eRqSMi"
      },
      "execution_count": null,
      "outputs": []
    },
    {
      "cell_type": "code",
      "source": [
        "# TODO: VARIABEL INPEKSI BERTIPE DATA LIST\n",
        "inpeksi = [\n",
        "    \"pemahaman terhadap rencanca dan desain \",\n",
        "    \"ketersediaan bahan dan peralatan\",\n",
        "    \"pengawasan pekerjaan\",\n",
        "    \"kualitas kontruksi\",\n",
        "    \"keselamatan kerja\",\n",
        "    \"koordinasi dengan pemilik proyek\",\n",
        "]\n",
        "\n",
        "#OUTPUT DAFTAR INSPEKSI\n",
        "print(\"Daftar Inspeksi:\")\n",
        "for index, item in enumerate(inpeksi, start=1):\n",
        "    print(f\"{index}. {item}\")"
      ],
      "metadata": {
        "colab": {
          "base_uri": "https://localhost:8080/"
        },
        "id": "wQMoz5sGrNic",
        "outputId": "9abfe011-fd4f-4003-da3d-bd5fa71d8a5b"
      },
      "execution_count": 17,
      "outputs": [
        {
          "output_type": "stream",
          "name": "stdout",
          "text": [
            "Daftar Inspeksi:\n",
            "1. pemahaman terhadap rencanca dan desain \n",
            "2. ketersediaan bahan dan peralatan\n",
            "3. pengawasan pekerjaan\n",
            "4. kualitas kontruksi\n",
            "5. keselamatan kerja\n",
            "6. koordinasi dengan pemilik proyek\n"
          ]
        }
      ]
    },
    {
      "cell_type": "code",
      "source": [
        "#TIPE DATA DICTIONARY\n",
        "\n",
        "start_time = {\n",
        "    \"HH\":9,\n",
        "    \"mm\":23,\n",
        "    \"ss\":57\n",
        "}\n",
        "\n",
        "end_Time ={\n",
        "    \"HH\":15,\n",
        "    \"mm\":25,\n",
        "    \"ss\":43\n",
        "\n",
        "}\n",
        "\n",
        "# OUTPUT\n",
        "print(\"Start Time;\", start_time)\n",
        "print(\"End Time;\", end_Time)"
      ],
      "metadata": {
        "colab": {
          "base_uri": "https://localhost:8080/"
        },
        "id": "PkkC9jTVwO_n",
        "outputId": "dc46b861-4ea8-4006-e12c-edc9d4dc700e"
      },
      "execution_count": 20,
      "outputs": [
        {
          "output_type": "stream",
          "name": "stdout",
          "text": [
            "Start Time; {'HH': 9, 'mm': 23, 'ss': 57}\n",
            "End Time; {'HH': 15, 'mm': 25, 'ss': 43}\n"
          ]
        }
      ]
    },
    {
      "cell_type": "code",
      "source": [],
      "metadata": {
        "id": "HwfgRFq7yA5v"
      },
      "execution_count": null,
      "outputs": []
    }
  ]
}