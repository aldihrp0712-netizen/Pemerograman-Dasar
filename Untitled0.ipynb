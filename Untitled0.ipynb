{
  "nbformat": 4,
  "nbformat_minor": 0,
  "metadata": {
    "colab": {
      "provenance": [],
      "authorship_tag": "ABX9TyOa61EebJ45Lu/LktCqszEo",
      "include_colab_link": true
    },
    "kernelspec": {
      "name": "python3",
      "display_name": "Python 3"
    },
    "language_info": {
      "name": "python"
    }
  },
  "cells": [
    {
      "cell_type": "markdown",
      "metadata": {
        "id": "view-in-github",
        "colab_type": "text"
      },
      "source": [
        "<a href=\"https://colab.research.google.com/github/aldihrp0712-netizen/Pemerograman-Dasar/blob/main/Untitled0.ipynb\" target=\"_parent\"><img src=\"https://colab.research.google.com/assets/colab-badge.svg\" alt=\"Open In Colab\"/></a>"
      ]
    },
    {
      "cell_type": "code",
      "execution_count": 63,
      "metadata": {
        "colab": {
          "base_uri": "https://localhost:8080/"
        },
        "id": "lVOdEZiDdhC1",
        "outputId": "231935de-3a1a-4178-97de-cf35695a430a"
      },
      "outputs": [
        {
          "output_type": "stream",
          "name": "stdout",
          "text": [
            "43\n",
            "<class 'list'>\n"
          ]
        }
      ],
      "source": [
        "# deklarasi variabel list\n",
        "numbers = [23,43,15,34]\n",
        "# cara mengakses elemen dan variabel list\n",
        "numbers [0] # 23\n",
        "numbers [1] # 43\n",
        "numbers [2] # 15\n",
        "numbers [3] # 34\n",
        "# cara mengubah nilai elemen dalam variabel list\n",
        "numbers [2] = 51\n",
        "numbers [2] # 51\n",
        "\n",
        "print (numbers[1]) #lakukan untuk setiap indexnya dan lihat hasilnya\n",
        "\n",
        "# Output\n",
        "print (type(numbers))"
      ]
    },
    {
      "cell_type": "code",
      "source": [
        "#deklarasi variabellist number\n",
        "numbers = [1, 2, 3]\n",
        "\n",
        "#menambahkan elemen di indeks ke -4\n",
        "numbers.insert(4,5) #[1, 2, 3, 5]\n",
        "\n",
        "#mengubah elemen di indeks ke-4\n",
        "numbers[3]=4  #[1, 2, 3, 4]\n",
        "\n",
        "#menghapus elemen di indeks ke -2\n",
        "numbers.pop(2) #[1, 2, 4]\n",
        "\n",
        "#print lalu lihat hasilnya\n"
      ],
      "metadata": {
        "colab": {
          "base_uri": "https://localhost:8080/"
        },
        "id": "X5otg06Ymwun",
        "outputId": "df2046b5-475b-4a9f-f27b-db5060f84b26"
      },
      "execution_count": 64,
      "outputs": [
        {
          "output_type": "execute_result",
          "data": {
            "text/plain": [
              "3"
            ]
          },
          "metadata": {},
          "execution_count": 64
        }
      ]
    },
    {
      "cell_type": "code",
      "source": [
        "\n",
        "# deklarasi variabel list num numbers = [1, 2, 3]\n",
        "\n",
        "#mehambahkan elemen di indeks ke-4\n",
        "numbers.insert (4, 5) # [1, 2, 3, 5]\n",
        "\n",
        "#megubah elemen di indeks ke -4\n",
        "numbers[3] = 4 # [1, 2, 3, 4]\n",
        "\n",
        "# menghapus elemen di indeks ke-2\n",
        "numbers.pop(2) # [1, 2, 4]\n",
        "\n",
        "#print setiap hasil perubahan dan amati hasilnya\n",
        ""
      ],
      "metadata": {
        "id": "G9u2YH805jEu",
        "colab": {
          "base_uri": "https://localhost:8080/"
        },
        "outputId": "1657ce15-e00f-4493-e8f7-7a0dd00dc95f"
      },
      "execution_count": 65,
      "outputs": [
        {
          "output_type": "execute_result",
          "data": {
            "text/plain": [
              "4"
            ]
          },
          "metadata": {},
          "execution_count": 65
        }
      ]
    },
    {
      "cell_type": "code",
      "source": [
        "# deklarasi variabel list\n",
        "myList = [1,\"Rumah\", 4.5, True,[\"Kamar mandi\", \"Kamar mandi\"]]\n",
        "\n",
        "# cara mengakses elemen dalam variabel list\n",
        "print(myList [0]) # 1\n",
        "print(myList [1]) # \"Rumah\"\n",
        "print(myList [3]) # True\n",
        "print(myList [4]) # [\"Kamar mandi\", \"Kamar tidur\"]\n",
        "\n",
        "# cara mengakses elemen dalam sublist\n",
        "print(myList[4][0]) # \"kamar tidur\"\n",
        "print(myList[4][1]) # \"kamar tidur\"\n",
        "\n",
        "#lakukan print lalu amati hasilnya"
      ],
      "metadata": {
        "id": "1wJMa8KI7Nvz",
        "colab": {
          "base_uri": "https://localhost:8080/"
        },
        "outputId": "de37d241-824b-4b7a-a6e9-9d2e862370d3"
      },
      "execution_count": 2,
      "outputs": [
        {
          "output_type": "stream",
          "name": "stdout",
          "text": [
            "1\n",
            "Rumah\n",
            "True\n",
            "['Kamar mandi', 'Kamar mandi']\n",
            "Kamar mandi\n",
            "Kamar mandi\n"
          ]
        }
      ]
    },
    {
      "cell_type": "code",
      "source": [
        "FirstName = \"Aldi\"\n",
        "LastName  = \"Togar\"\n",
        "Age       = 19\n",
        "isMarried = False\n",
        "\n",
        "# OUTPUT\n",
        "\n",
        "print(type(FirstName))\n",
        "print(type(LastName))\n",
        "print(type(Age))\n",
        "print(type(isMarried))"
      ],
      "metadata": {
        "colab": {
          "base_uri": "https://localhost:8080/"
        },
        "id": "FXiIUM7PpqWI",
        "outputId": "3710497e-14bf-4933-b664-06257f45a40f"
      },
      "execution_count": 52,
      "outputs": [
        {
          "output_type": "stream",
          "name": "stdout",
          "text": [
            "<class 'str'>\n",
            "<class 'str'>\n",
            "<class 'int'>\n",
            "<class 'bool'>\n"
          ]
        }
      ]
    },
    {
      "cell_type": "code",
      "source": [
        "# VARIABEL DICTIONARY\n",
        "\n",
        "data_diri = {\"FirstName\" : \"Aldi\", \"LastName\" : \"Togar\",  \"Age\" : 19,\"isMarried\" : False}\n",
        "\n",
        "# OUTPUT DIOCTIONARY\n",
        "\n",
        "print(data_diri['FirstName'], type (data_diri['FirstName']))\n",
        "print(data_diri[\"LastName\"], type (data_diri[\"LastName\"]))\n",
        "print(data_diri[\"Age\"], type (data_diri[\"Age\"]))\n",
        "print(data_diri[\"isMarried\"], type (data_diri[\"isMarried\"]))"
      ],
      "metadata": {
        "id": "WC-e92eRqSMi",
        "colab": {
          "base_uri": "https://localhost:8080/"
        },
        "outputId": "49d37c82-e7a3-43fb-bb17-58e1532108dd"
      },
      "execution_count": 51,
      "outputs": [
        {
          "output_type": "stream",
          "name": "stdout",
          "text": [
            "Aldi <class 'str'>\n",
            "Togar <class 'str'>\n",
            "19 <class 'int'>\n",
            "False <class 'bool'>\n"
          ]
        }
      ]
    },
    {
      "cell_type": "code",
      "source": [
        "# TODO: VARIABEL INPEKSI BERTIPE DATA LIST\n",
        "inpeksi = [\n",
        "    \"pemahaman terhadap rencanca dan desain \",\n",
        "    \"ketersediaan bahan dan peralatan\",\n",
        "    \"pengawasan pekerjaan\",\n",
        "    \"kualitas kontruksi\",\n",
        "    \"keselamatan kerja\",\n",
        "    \"koordinasi dengan pemilik proyek\",]\n",
        "\n",
        "#OUTPUT DAFTAR INSPEKSI\n",
        "print(\"Daftar Inspeksi:\")\n",
        "for item in inpeksi: print(\"-\",item)"
      ],
      "metadata": {
        "colab": {
          "base_uri": "https://localhost:8080/"
        },
        "id": "wQMoz5sGrNic",
        "outputId": "7808a30f-080c-4e16-a986-f2cd6d97eab3"
      },
      "execution_count": 53,
      "outputs": [
        {
          "output_type": "stream",
          "name": "stdout",
          "text": [
            "Daftar Inspeksi:\n",
            "- pemahaman terhadap rencanca dan desain \n",
            "- ketersediaan bahan dan peralatan\n",
            "- pengawasan pekerjaan\n",
            "- kualitas kontruksi\n",
            "- keselamatan kerja\n",
            "- koordinasi dengan pemilik proyek\n"
          ]
        }
      ]
    },
    {
      "cell_type": "code",
      "source": [
        "#TIPE DATA DICTIONARY\n",
        "\n",
        "start_time = {\"HH\":9,\"mm\":23, \"ss\":57}\n",
        "\n",
        "end_Time ={ \"HH\":15, \"mm\":25,\"ss\":43}\n",
        "\n",
        "# OUTPUT\n",
        "print(\"start_time: {}:{}:{}\".format(start_time[\"HH\"], start_time[\"mm\"], start_time[\"ss\"]))\n",
        "print(\"end_Time: {}:{}:{}\".format(end_Time[\"HH\"], end_Time[\"mm\"], end_Time[\"ss\"]))"
      ],
      "metadata": {
        "colab": {
          "base_uri": "https://localhost:8080/"
        },
        "id": "PkkC9jTVwO_n",
        "outputId": "35960b74-7875-42f3-cb58-e23b59bde95c"
      },
      "execution_count": 56,
      "outputs": [
        {
          "output_type": "stream",
          "name": "stdout",
          "text": [
            "start_time: 9:23:57\n",
            "end_Time: 15:25:43\n"
          ]
        }
      ]
    },
    {
      "cell_type": "code",
      "source": [
        "# Katalog produk dari pemasok A dan B dalam bentuk set\n",
        "katalog_A = {\"Laptop\", \"Mouse\", \"Keyboard\", \"Monitor\"}\n",
        "katalog_B = {\"Printer\", \"Mouse\", \"Headset\", \"Monitor\"}\n",
        "\n",
        "# Daftar produk diskon dalam bentuk tuple\n",
        "produk_diskon = (\"Laptop\", \"Headset\", \"Keyboard\")\n",
        "\n",
        "# 1. Gabungkan katalog_A dan katalog_B menjadi set katalog_lengkap\n",
        "katalog_lengkap = katalog_A.union(katalog_B)\n",
        "\n",
        "# 2. produk yang ada di katalog dan masuk diskon\n",
        "produk_promo_aktif = katalog_lengkap.intersection(produk_diskon)\n",
        "\n",
        "print(\"Katalog Lengkap :\", katalog_lengkap)\n",
        "print(\"Produk Promo Aktif :\", produk_promo_aktif)"
      ],
      "metadata": {
        "colab": {
          "base_uri": "https://localhost:8080/"
        },
        "id": "neytIv4034z0",
        "outputId": "3c2dba0d-4ef1-41cf-a9d5-fc54db612261"
      },
      "execution_count": 60,
      "outputs": [
        {
          "output_type": "stream",
          "name": "stdout",
          "text": [
            "Katalog Lengkap : {'Mouse', 'Monitor', 'Headset', 'Printer', 'Keyboard', 'Laptop'}\n",
            "Produk Promo Aktif : {'Laptop', 'Headset', 'Keyboard'}\n"
          ]
        }
      ]
    }
  ]
}