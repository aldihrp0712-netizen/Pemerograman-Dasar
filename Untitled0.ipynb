{
  "nbformat": 4,
  "nbformat_minor": 0,
  "metadata": {
    "colab": {
      "provenance": [],
      "toc_visible": true,
      "authorship_tag": "ABX9TyNarIc8qCdpqEWkhzuOCgga",
      "include_colab_link": true
    },
    "kernelspec": {
      "name": "python3",
      "display_name": "Python 3"
    },
    "language_info": {
      "name": "python"
    }
  },
  "cells": [
    {
      "cell_type": "markdown",
      "metadata": {
        "id": "view-in-github",
        "colab_type": "text"
      },
      "source": [
        "<a href=\"https://colab.research.google.com/github/aldihrp0712-netizen/Pemerograman-Dasar/blob/main/Untitled0.ipynb\" target=\"_parent\"><img src=\"https://colab.research.google.com/assets/colab-badge.svg\" alt=\"Open In Colab\"/></a>"
      ]
    },
    {
      "cell_type": "code",
      "source": [
        "# LATIHAN SOAL PEMROGRAMAN DASAR (soal no 05 )\n",
        "# Nama: Aldi Togar\n",
        "# NIM: [4232401018]\n",
        "\n",
        "# Contoh Dictionary\n",
        "mahasiswa = {\n",
        "    'nama': 'Aldi',\n",
        "    'umur': 19,\n",
        "    'prodi': 'TRPE'\n",
        "}\n",
        "\n",
        "# Akses menggunakan key\n",
        "print(mahasiswa['nama'])\n",
        "\n",
        "# Akses aman dengan.get()\n",
        "print(mahasiswa.get('umur'))\n",
        "print(mahasiswa.get('alamat', 'Tidak ada'))\n",
        "\n",
        "# Akses dengan perulangan\n",
        "for key, value in mahasiswa.items():\n",
        "    print(f\"{key} : {value}\")\n",
        "\n",
        "\n"
      ],
      "metadata": {
        "colab": {
          "base_uri": "https://localhost:8080/"
        },
        "id": "8S5ObmspZeys",
        "outputId": "c45a52b3-d5d5-432d-9a3b-e1f919a0810e"
      },
      "execution_count": 73,
      "outputs": [
        {
          "output_type": "stream",
          "name": "stdout",
          "text": [
            "Aldi\n",
            "19\n",
            "Tidak ada\n",
            "nama : Aldi\n",
            "umur : 19\n",
            "prodi : TRPE\n"
          ]
        }
      ]
    },
    {
      "cell_type": "code",
      "source": [
        "# LATIHAN SOAL PEMROGRAMAN DASAR (soal no 05 )\n",
        "# Nama: Aldi Togar\n",
        "# NIM: [4232401018]\n",
        "\n",
        "# Data Biodata (List)\n",
        "# Akses data list\n",
        "Biodata = [\n",
        "    \"Aldi Togar\",\n",
        "    19,\n",
        "    \"berenang\",\n",
        "    \"Teknik Elektro\",\n",
        "    \"TRPE\",\n",
        "    \"Pemrograman Dasar\"\n",
        "]\n",
        "\n",
        "# Akses dengan Indeks Positif\n",
        "print(\" AKSES DENGAN INDEKS POSITIF\")\n",
        "print(\"Nama       :\", Biodata[0])\n",
        "print(\"Umur       :\", Biodata[1])\n",
        "print(\"Hobi       :\", Biodata[2])\n",
        "print(\"Jurusan    :\", Biodata[3])\n",
        "print(\"Prodi      :\", Biodata[4])\n",
        "print(\"Matakuliah :\", Biodata[5])\n",
        "\n",
        "\n",
        "# Akses dengan Indeks Negatif\n",
        "\n",
        "print(\"\\n AKSES DENGAN INDEKS NEGATIF\")\n",
        "print(\"Matakuliah (dari belakang):\", Biodata[-1])\n",
        "print(\"Prodi (dari belakang):     \", Biodata[-2])\n",
        "print(\"Jurusan (dari belakang):   \", Biodata[-3])\n",
        "\n",
        "\n",
        "# Akses dengan Slicing\n",
        "\n",
        "print(\"\\n AKSES DENGAN SLICING \")\n",
        "print(\"Data dari indeks 1-3      :\", Biodata[1:4])     # umur, hobi, jurusan\n",
        "print(\"3 data pertama            :\", Biodata[:3])      # nama, umur, hobi\n",
        "print(\"Data mulai indeks ke-3   :\", Biodata[3:])       # jurusan sampai matakuliah\n",
        "\n",
        "# Akses dengan Perulangan\n",
        "print(\"\\n=== AKSES DENGAN PERULANGAN ===\")\n",
        "for item in Biodata:\n",
        "    print(item)\n",
        "\n",
        "# Akses dengan Enumerate\n",
        "print(\"\\n=== AKSES DENGAN ENUMERATE (Indeks dan Nilai) ===\")\n",
        "for i, item in enumerate(Biodata):\n",
        "    print(f\"Indeks {i} : {item}\")"
      ],
      "metadata": {
        "colab": {
          "base_uri": "https://localhost:8080/"
        },
        "id": "aKHPL1SepRwA",
        "outputId": "f51eeee0-fcc5-4bda-8189-8c5ad8ebb82b"
      },
      "execution_count": 76,
      "outputs": [
        {
          "output_type": "stream",
          "name": "stdout",
          "text": [
            " AKSES DENGAN INDEKS POSITIF\n",
            "Nama       : Aldi Togar\n",
            "Umur       : 19\n",
            "Hobi       : berenang\n",
            "Jurusan    : Teknik Elektro\n",
            "Prodi      : TRPE\n",
            "Matakuliah : Pemrograman Dasar\n",
            "\n",
            " AKSES DENGAN INDEKS NEGATIF\n",
            "Matakuliah (dari belakang): Pemrograman Dasar\n",
            "Prodi (dari belakang):      TRPE\n",
            "Jurusan (dari belakang):    Teknik Elektro\n",
            "\n",
            " AKSES DENGAN SLICING \n",
            "Data dari indeks 1-3      : [19, 'berenang', 'Teknik Elektro']\n",
            "3 data pertama            : ['Aldi Togar', 19, 'berenang']\n",
            "Data mulai indeks ke-3   : ['Teknik Elektro', 'TRPE', 'Pemrograman Dasar']\n",
            "\n",
            "=== AKSES DENGAN PERULANGAN ===\n",
            "Aldi Togar\n",
            "19\n",
            "berenang\n",
            "Teknik Elektro\n",
            "TRPE\n",
            "Pemrograman Dasar\n",
            "\n",
            "=== AKSES DENGAN ENUMERATE (Indeks dan Nilai) ===\n",
            "Indeks 0 : Aldi Togar\n",
            "Indeks 1 : 19\n",
            "Indeks 2 : berenang\n",
            "Indeks 3 : Teknik Elektro\n",
            "Indeks 4 : TRPE\n",
            "Indeks 5 : Pemrograman Dasar\n"
          ]
        }
      ]
    },
    {
      "cell_type": "markdown",
      "source": [
        "# Bagian Baru"
      ],
      "metadata": {
        "id": "mn_57rozoVMA"
      }
    },
    {
      "cell_type": "code",
      "source": [
        "# LATIHAN SOAL PEMROGRAMAN DASAR (soal no 06 )\n",
        "# Nama: Aldi Togar\n",
        "# NIM: [4232401018]\n",
        "\n",
        "# implementasi tipe data non primitif\n",
        "# Variabel Biodata Mahasiswa\n",
        "nama = \"Aldi Togar\"\n",
        "umur = 19\n",
        "hobi = \"berenang\"\n",
        "jurusan = \"Teknik Elektro\"\n",
        "prodi = \"TRPE\"\n",
        "matakuliah = \"Pemrograman Dasar\"\n",
        "\n",
        "print(\"Data Biodata Mahasiswa \")\n",
        "print(f\"Nama        : {nama}\")\n",
        "print(f\"Umur        : {umur}\")\n",
        "print(f\"Hobi        : {hobi}\")\n",
        "print(f\"Jurusan     : {jurusan}\")\n",
        "print(f\"Prodi       : {prodi}\")\n",
        "print(f\"Mata Kuliah : {matakuliah}\")\n",
        "\n",
        "\n",
        "# pengimplementasian tipe data\n",
        "\n",
        "#  Menggunakan LIST: Daftar berurutan, bisa diubah (mutable)\n",
        "biodata_list = [nama, umur, hobi, jurusan, prodi, matakuliah]\n",
        "print(\"\\n Data Menggunakan LIST \")\n",
        "print(\"Penjelasan: List adalah koleksi data yang berurutan dan nilainya dapat diubah.\")\n",
        "print(f\"Isi List  : {biodata_list}\")\n",
        "\n",
        "# Menggunakan TUPLE: Daftar berurutan, tidak bisa diubah (immutable)\n",
        "biodata_tuple = (nama, umur, hobi, jurusan, prodi, matakuliah)\n",
        "print(\"\\n Data Menggunakan TUPLE\")\n",
        "print(\"Penjelasan: Tuple adalah koleksi data yang berurutan, namun nilainya tidak dapat diubah setelah dibuat.\")\n",
        "print(f\"Isi Tuple : {biodata_tuple}\")\n",
        "\n",
        "# Menggunakan SET: Koleksi tidak berurutan, tanpa duplikat\n",
        "# Bisa digunakan untuk data unik seperti daftar mata kuliah yang diambil atau hobi\n",
        "biodata_set = {nama, umur, hobi, jurusan, prodi, matakuliah}\n",
        "print(\"\\n Data Menggunakan SET \")\n",
        "print(\"Penjelasan: Set adalah koleksi data yang tidak berurutan dan secara otomatis menghilangkan nilai duplikat.\")\n",
        "print(f\"Isi Set   : {biodata_set}\")\n",
        "\n",
        "\n",
        "# Menggunakan DICTIONARY: Koleksi pasangan key-value\n",
        "# Setiap nilai diakses menggunakan kunci unik (key)\n",
        "data_mahasiswa = {\n",
        "    \"nama\": nama,\n",
        "    \"umur\": umur,\n",
        "    \"hobi\": hobi,\n",
        "    \"jurusan\": jurusan,\n",
        "    \"prodi\": prodi,\n",
        "    \"matakuliah\": matakuliah\n",
        "}\n",
        "print(\"\\n Data Menggunakan DICTIONARY \")\n",
        "print(\"Penjelasan: Dictionary menyimpan data dalam pasangan kunci (key) dan nilai (value), memudahkan akses data dengan nama kuncinya.\")\n",
        "for key, value in data_mahasiswa.items():\n",
        "    print(f\"- {key:<11}: {value}\")\n",
        "\n"
      ],
      "metadata": {
        "id": "EP9km7m-oCIl"
      },
      "execution_count": null,
      "outputs": []
    },
    {
      "cell_type": "code",
      "source": [
        "\n",
        "# LATIHAN SOAL PEMROGRAMAN DASAR (soal no 07 )\n",
        "# Nama: Aldi Togar\n",
        "# NIM: [4232401018]\n",
        "\n",
        "\n",
        "# Program Sederhana dengan Type Annotation\n",
        "# Data Biodata Mahasiswa\n",
        "biodata_mahasiswa = {\n",
        "    'nama': 'Aldi Togar',\n",
        "    'umur': 19,\n",
        "    'hobi': 'berenang',\n",
        "    'jurusan': 'teknik elektro',\n",
        "    'prodi': 'TRPE',\n",
        "    'semester': 3,\n",
        "    'matakuliah': 'pemrograman dasar',\n",
        "    'status_lulus': False\n",
        "}\n",
        "\n",
        "# Fungsi dengan Type Annotation\n",
        "def tampilkan_info_mahasiswa(data: dict) -> None:\n",
        "    \"\"\"\n",
        "    Menampilkan informasi mahasiswa dari dictionary dengan type annotation.\n",
        "    \"\"\"\n",
        "    nama: str = data.get('nama', 'N/A')\n",
        "    umur: int = data.get('umur', 0)\n",
        "    jurusan: str = data.get('jurusan', 'N/A')\n",
        "    status_lulus: bool = data.get('status_lulus', False)\n",
        "\n",
        "    print(\"-Informasi Mahasiswa -\")\n",
        "    print(f\"Nama         : {nama}\")\n",
        "    print(f\"Umur         : {umur}\")\n",
        "    print(f\"Jurusan      : {jurusan}\")\n",
        "    print(f\"Status Lulus : {'Sudah Lulus' if status_lulus else 'Belum Lulus'}\")\n",
        "\n",
        "\n",
        "# Panggil fungsi\n",
        "tampilkan_info_mahasiswa(biodata_mahasiswa)"
      ],
      "metadata": {
        "colab": {
          "base_uri": "https://localhost:8080/"
        },
        "id": "af8C0Q5dfE0m",
        "outputId": "a600dc00-1327-4df9-fef4-2c6a9713a762"
      },
      "execution_count": 72,
      "outputs": [
        {
          "output_type": "stream",
          "name": "stdout",
          "text": [
            "-Informasi Mahasiswa -\n",
            "Nama         : Aldi Togar\n",
            "Umur         : 19\n",
            "Jurusan      : teknik elektro\n",
            "Status Lulus : Belum Lulus\n"
          ]
        }
      ]
    }
  ]
}