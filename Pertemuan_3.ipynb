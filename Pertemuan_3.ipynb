{
  "nbformat": 4,
  "nbformat_minor": 0,
  "metadata": {
    "colab": {
      "provenance": [],
      "authorship_tag": "ABX9TyPpBUH/JenaiAhr501HcRLy",
      "include_colab_link": true
    },
    "kernelspec": {
      "name": "python3",
      "display_name": "Python 3"
    },
    "language_info": {
      "name": "python"
    }
  },
  "cells": [
    {
      "cell_type": "markdown",
      "metadata": {
        "id": "view-in-github",
        "colab_type": "text"
      },
      "source": [
        "<a href=\"https://colab.research.google.com/github/aldihrp0712-netizen/Pemerograman-Dasar/blob/main/Pertemuan_3.ipynb\" target=\"_parent\"><img src=\"https://colab.research.google.com/assets/colab-badge.svg\" alt=\"Open In Colab\"/></a>"
      ]
    },
    {
      "cell_type": "code",
      "execution_count": 23,
      "metadata": {
        "colab": {
          "base_uri": "https://localhost:8080/"
        },
        "id": "k46zYDAKsb3c",
        "outputId": "4f5e0ed0-b831-44ec-842f-d99b5a5e19b5"
      },
      "outputs": [
        {
          "output_type": "stream",
          "name": "stdout",
          "text": [
            "Tahun   = 2005\n",
            "Tahun  2005bukan tahun kabisat \n"
          ]
        }
      ],
      "source": [
        "#Latihan\n",
        "#1.\n",
        "\n",
        "Tahun = int(input(\"Tahun   = \"))\n",
        "\n",
        "kabisat = (Tahun % 4 == 0 and Tahun % 100 !=0) or (Tahun % 400 == 0 )\n",
        "Keterangan =[\"Tahun  \" +str(Tahun) + \"bukan tahun kabisat \",\n",
        "             \"tahun \" + str (Tahun) + \"tahun kabisat\" ]\n",
        "\n",
        "print(Keterangan[kabisat])"
      ]
    },
    {
      "cell_type": "code",
      "source": [
        "#Latihan\n",
        "#2.\n",
        "\n",
        "\n",
        "# Program Kasir Sederhana\n",
        "\n",
        "nama_pelanggan = \"Aldi\"\n",
        "\n",
        "def rupiah(x) :\n",
        "  return \"Rp\"+f\"{int(round(x)):,}\".replace(\",\",\".\")\n",
        "\n",
        "items = [{\"nama\"  : \"Kopi Americano\",\"harga\" : 25000,\"qty\" : 4},\n",
        "           {\"nama\" : \"Matcha Latte\", \"harga\" : 30000, \"qty\" : 5}]\n",
        "\n",
        "subtotals = [item[\"harga\"]*item[\"qty\"]for item in items]\n",
        "subtotal = sum(subtotals)\n",
        "adalah_anggota_member = True\n",
        "diskon_berlaku = adalah_anggota_member and (subtotal>100000)\n",
        "diskon_rate = 0.15 * diskon_berlaku\n",
        "besar_diskon = subtotal* diskon_rate\n",
        "harga_setelah_diskon = subtotal - besar_diskon\n",
        "\n",
        "ppn_rate = 0.11\n",
        "besar_ppn = harga_setelah_diskon* ppn_rate\n",
        "\n",
        "total_bayar = harga_setelah_diskon + besar_ppn\n",
        "\n",
        "\n",
        "print(\"====Struk Pembayaran===\")\n",
        "print(\"Nama Pelanggan  = \", nama_pelanggan)\n",
        "print(\"\\nDaftar Belanja = \")\n",
        "for item in items:\n",
        "    print(f\"-{item['nama']} x {item['qty']} @ {rupiah(item['harga'])} = {rupiah(item['harga']*item['qty'])}\")\n",
        "\n",
        "print(\"\\nSubtotal = \", rupiah(subtotal))\n",
        "print(\"Diskon (15% jika memenuhi ketentusn) =\", rupiah (besar_diskon))\n",
        "print(\"Harga setelah diskon =\",  rupiah(harga_setelah_diskon))\n",
        "print(\"PPN(11%) =\", rupiah(besar_ppn))\n",
        "print(\"Total bayar =\", rupiah(total_bayar))"
      ],
      "metadata": {
        "colab": {
          "base_uri": "https://localhost:8080/"
        },
        "id": "fFR4LZIftC0q",
        "outputId": "54bf672f-666c-43ee-c214-8a81fb2c166e"
      },
      "execution_count": 10,
      "outputs": [
        {
          "output_type": "stream",
          "name": "stdout",
          "text": [
            "====Struk Pembayaran===\n",
            "Nama Pelanggan  =  Aldi\n",
            "\n",
            "Daftar Belanja = \n",
            "-Kopi Americano x 4 @ Rp25.000 = Rp100.000\n",
            "-Matcha Latte x 5 @ Rp30.000 = Rp150.000\n",
            "\n",
            "Subtotal =  Rp250.000\n",
            "Diskon (15% jika memenuhi ketentusn) = Rp37.500\n",
            "Harga setelah diskon = Rp212.500\n",
            "PPN(11%) = Rp23.375\n",
            "Total bayar = Rp235.875\n"
          ]
        }
      ]
    },
    {
      "cell_type": "code",
      "source": [],
      "metadata": {
        "id": "8HJpW-pc9jU8"
      },
      "execution_count": null,
      "outputs": []
    }
  ]
}