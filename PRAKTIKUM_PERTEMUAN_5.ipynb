{
  "cells": [
    {
      "cell_type": "markdown",
      "metadata": {
        "id": "view-in-github",
        "colab_type": "text"
      },
      "source": [
        "<a href=\"https://colab.research.google.com/github/aldihrp0712-netizen/Pemerograman-Dasar/blob/main/PRAKTIKUM_PERTEMUAN_5.ipynb\" target=\"_parent\"><img src=\"https://colab.research.google.com/assets/colab-badge.svg\" alt=\"Open In Colab\"/></a>"
      ]
    },
    {
      "cell_type": "code",
      "execution_count": null,
      "metadata": {
        "colab": {
          "base_uri": "https://localhost:8080/"
        },
        "id": "ZyfNqa16lx9f",
        "outputId": "0bc0d179-dcdd-4224-f0b5-b1dfcb5d01f5"
      },
      "outputs": [
        {
          "name": "stdout",
          "output_type": "stream",
          "text": [
            ".............        Soal 1        .............\n",
            "2\n",
            "4\n",
            "6\n",
            "8\n",
            "10\n",
            "12\n",
            "14\n",
            "16\n",
            "18\n",
            "20\n",
            "22\n",
            "24\n",
            "26\n",
            "28\n",
            "30\n",
            "32\n",
            "34\n",
            "36\n",
            "38\n",
            "40\n",
            "42\n",
            "44\n",
            "46\n",
            "48\n",
            "50\n"
          ]
        }
      ],
      "source": [
        "# menggunakan konsep perulangan ( for atau while).\n",
        "# Memodifikasi agar bisa menampilkan angka genap dia antara 1-50\n",
        "\n",
        "print(\".............        Soal 1        .............\")\n",
        "for angka in range(2, 51, 2):\n",
        "    print(angka)"
      ]
    },
    {
      "cell_type": "code",
      "execution_count": null,
      "metadata": {
        "colab": {
          "base_uri": "https://localhost:8080/"
        },
        "id": "7hjwKeH3nrkr",
        "outputId": "625d6407-4c43-4669-ed35-3934d7da1501"
      },
      "outputs": [
        {
          "output_type": "stream",
          "name": "stdout",
          "text": [
            ".............        Soal 2        .............\n",
            "Masukkan NIM(Ketik NIM 4232401018 Untuk berhenti): hallo\n",
            "input diterima:  hallo\n",
            "Masukkan NIM(Ketik NIM 4232401018 Untuk berhenti): nama\n",
            "input diterima:  nama\n",
            "Masukkan NIM(Ketik NIM 4232401018 Untuk berhenti): saya\n",
            "input diterima:  saya\n",
            "Masukkan NIM(Ketik NIM 4232401018 Untuk berhenti): aldi togar\n",
            "input diterima:  aldi togar\n",
            "Masukkan NIM(Ketik NIM 4232401018 Untuk berhenti): nim\n",
            "input diterima:  nim\n",
            "Masukkan NIM(Ketik NIM 4232401018 Untuk berhenti): 4232401018\n",
            "perulangan dihentikan karena NIM telah dimasukkan\n",
            "Program selesai\n"
          ]
        }
      ],
      "source": [
        "\n",
        "# Menggunakan perulangan while untuk menangani kondisi ini.\n",
        "# Memodifikasi agar bisa memberhentikan proses dengan memasukkan NIM\n",
        "\n",
        "print(\".............        Soal 2        .............\")\n",
        "kode_berhenti = \"4232401018\"\n",
        "input_pengguna = 0 # Inisialisasi awal\n",
        "\n",
        "while input_pengguna != kode_berhenti :\n",
        " input_pengguna = input (\"Masukkan NIM(Ketik NIM 4232401018 Untuk berhenti): \")\n",
        "\n",
        " if input_pengguna != kode_berhenti:\n",
        "  print(\"input diterima: \", input_pengguna)\n",
        "else:\n",
        "  print(\"perulangan dihentikan karena NIM telah dimasukkan\")\n",
        "\n",
        "  print(\"Program selesai\")\n",
        "\n"
      ]
    },
    {
      "cell_type": "code",
      "execution_count": null,
      "metadata": {
        "colab": {
          "base_uri": "https://localhost:8080/"
        },
        "id": "mv-YpF_WntS2",
        "outputId": "5f89b0a4-ccb2-403d-e157-475d3c5d68df"
      },
      "outputs": [
        {
          "name": "stdout",
          "output_type": "stream",
          "text": [
            ".............        Soal 3        .............\n",
            "     Total biaya belanja adalah:  167000\n"
          ]
        }
      ],
      "source": [
        "# Membuat perulangan for untuk menjumlahkan seluruh harga barang untuk mendapatkan total biaya belanja.\n",
        "# Memodifikasi agar harga belanjaan minimal 10 item pada harga_barang\n",
        "\n",
        "print(\".............        Soal 3        .............\")\n",
        "harga_barang = [15000, 25000, 10000, 5000,2000,12000,3000,40000,30000,25000]\n",
        "total_belanja = 0\n",
        "\n",
        "for harga in harga_barang :\n",
        "    total_belanja += harga\n",
        "\n",
        "print(\"     Total biaya belanja adalah: \", total_belanja)\n",
        "\n"
      ]
    },
    {
      "cell_type": "code",
      "execution_count": null,
      "metadata": {
        "colab": {
          "base_uri": "https://localhost:8080/"
        },
        "id": "NOiANz7btE1j",
        "outputId": "b3323c89-2866-4e16-b69f-cf6aa5670be3"
      },
      "outputs": [
        {
          "output_type": "stream",
          "name": "stdout",
          "text": [
            ".............        Soal 4        .............\n",
            "percobaan ke-1...\n",
            "Masukkan password: aldo\n",
            "Password salah!\n",
            "percobaan ke-2...\n",
            "Masukkan password: alde\n",
            "Password salah!\n",
            "percobaan ke-3...\n",
            "Masukkan password: aldos\n",
            "Password salah!\n",
            "Kesemptan habis. Akses ditolak\n"
          ]
        }
      ],
      "source": [
        "# Membuat perulangan while yang menghitung dan membatasi jumlah percobaan tersebut.\n",
        "\n",
        "print(\".............        Soal 4        .............\")\n",
        "\n",
        "percobaan_maksimal = 3\n",
        "percobaan_saat_ini = 1\n",
        "password_benar     = \"Aldi\"\n",
        "\n",
        "while percobaan_saat_ini <= percobaan_maksimal:\n",
        "  print(f\"percobaan ke-{percobaan_saat_ini}...\")\n",
        "  input_password = input(\"Masukkan password: \")\n",
        "\n",
        "  if input_password == password_benar:\n",
        "    print(\"Akses diterima.\")\n",
        "    break\n",
        "  else:\n",
        "    print(\"Password salah!\")\n",
        "    percobaan_saat_ini += 1\n",
        "if percobaan_saat_ini > percobaan_maksimal:\n",
        "   print(\"Kesemptan habis. Akses ditolak\")"
      ]
    },
    {
      "cell_type": "code",
      "source": [
        "# Membuat program yang menggunakan perulangan for untuk mengiterasi melalui setiap karakter dalam sebuah string,\n",
        "# kemudian mencetak setiap karakter tersebut diikuti dengan tanda hubung ( -).\n",
        "# Dan memodifikasi agar teksi yang di cetak menjadi Politeknik Negeri Batam\n",
        "\n",
        "\n",
        "print(\".............        Soal 5        .............\")\n",
        "\n",
        "nama_proyek = \"Politeknik Negeri Batam\"\n",
        "hasil_output = \"\"\n",
        "\n",
        "for karakter in nama_proyek:\n",
        "    hasil_output += karakter + \"-\"\n",
        "\n",
        "print(hasil_output) # Output: P-R-A-K-T-I-K-U-M-"
      ],
      "metadata": {
        "colab": {
          "base_uri": "https://localhost:8080/"
        },
        "id": "79CA0Xt4k9sP",
        "outputId": "ec3c1dd1-1f93-4eae-b7f3-92ab77ecbdc9"
      },
      "execution_count": null,
      "outputs": [
        {
          "output_type": "stream",
          "name": "stdout",
          "text": [
            ".............        Soal 5        .............\n",
            "P-o-l-i-t-e-k-n-i-k- -N-e-g-e-r-i- -B-a-t-a-m-\n"
          ]
        }
      ]
    },
    {
      "cell_type": "code",
      "source": [
        "# Iterasi mundur\n",
        "# Memodifikasi agar dapat menghitung mundur dari 255\n",
        "print(\".............        Soal 6        .............\")\n",
        "# Countdown dari 255 ke 1\n",
        "for i in range(255, 0,-1):\n",
        "    print(i)"
      ],
      "metadata": {
        "colab": {
          "base_uri": "https://localhost:8080/"
        },
        "id": "Qz2whQmglGgT",
        "outputId": "f94444b0-7553-44d2-edf8-faf5b8ad272f"
      },
      "execution_count": null,
      "outputs": [
        {
          "output_type": "stream",
          "name": "stdout",
          "text": [
            ".............        Soal 6        .............\n",
            "255\n",
            "254\n",
            "253\n",
            "252\n",
            "251\n",
            "250\n",
            "249\n",
            "248\n",
            "247\n",
            "246\n",
            "245\n",
            "244\n",
            "243\n",
            "242\n",
            "241\n",
            "240\n",
            "239\n",
            "238\n",
            "237\n",
            "236\n",
            "235\n",
            "234\n",
            "233\n",
            "232\n",
            "231\n",
            "230\n",
            "229\n",
            "228\n",
            "227\n",
            "226\n",
            "225\n",
            "224\n",
            "223\n",
            "222\n",
            "221\n",
            "220\n",
            "219\n",
            "218\n",
            "217\n",
            "216\n",
            "215\n",
            "214\n",
            "213\n",
            "212\n",
            "211\n",
            "210\n",
            "209\n",
            "208\n",
            "207\n",
            "206\n",
            "205\n",
            "204\n",
            "203\n",
            "202\n",
            "201\n",
            "200\n",
            "199\n",
            "198\n",
            "197\n",
            "196\n",
            "195\n",
            "194\n",
            "193\n",
            "192\n",
            "191\n",
            "190\n",
            "189\n",
            "188\n",
            "187\n",
            "186\n",
            "185\n",
            "184\n",
            "183\n",
            "182\n",
            "181\n",
            "180\n",
            "179\n",
            "178\n",
            "177\n",
            "176\n",
            "175\n",
            "174\n",
            "173\n",
            "172\n",
            "171\n",
            "170\n",
            "169\n",
            "168\n",
            "167\n",
            "166\n",
            "165\n",
            "164\n",
            "163\n",
            "162\n",
            "161\n",
            "160\n",
            "159\n",
            "158\n",
            "157\n",
            "156\n",
            "155\n",
            "154\n",
            "153\n",
            "152\n",
            "151\n",
            "150\n",
            "149\n",
            "148\n",
            "147\n",
            "146\n",
            "145\n",
            "144\n",
            "143\n",
            "142\n",
            "141\n",
            "140\n",
            "139\n",
            "138\n",
            "137\n",
            "136\n",
            "135\n",
            "134\n",
            "133\n",
            "132\n",
            "131\n",
            "130\n",
            "129\n",
            "128\n",
            "127\n",
            "126\n",
            "125\n",
            "124\n",
            "123\n",
            "122\n",
            "121\n",
            "120\n",
            "119\n",
            "118\n",
            "117\n",
            "116\n",
            "115\n",
            "114\n",
            "113\n",
            "112\n",
            "111\n",
            "110\n",
            "109\n",
            "108\n",
            "107\n",
            "106\n",
            "105\n",
            "104\n",
            "103\n",
            "102\n",
            "101\n",
            "100\n",
            "99\n",
            "98\n",
            "97\n",
            "96\n",
            "95\n",
            "94\n",
            "93\n",
            "92\n",
            "91\n",
            "90\n",
            "89\n",
            "88\n",
            "87\n",
            "86\n",
            "85\n",
            "84\n",
            "83\n",
            "82\n",
            "81\n",
            "80\n",
            "79\n",
            "78\n",
            "77\n",
            "76\n",
            "75\n",
            "74\n",
            "73\n",
            "72\n",
            "71\n",
            "70\n",
            "69\n",
            "68\n",
            "67\n",
            "66\n",
            "65\n",
            "64\n",
            "63\n",
            "62\n",
            "61\n",
            "60\n",
            "59\n",
            "58\n",
            "57\n",
            "56\n",
            "55\n",
            "54\n",
            "53\n",
            "52\n",
            "51\n",
            "50\n",
            "49\n",
            "48\n",
            "47\n",
            "46\n",
            "45\n",
            "44\n",
            "43\n",
            "42\n",
            "41\n",
            "40\n",
            "39\n",
            "38\n",
            "37\n",
            "36\n",
            "35\n",
            "34\n",
            "33\n",
            "32\n",
            "31\n",
            "30\n",
            "29\n",
            "28\n",
            "27\n",
            "26\n",
            "25\n",
            "24\n",
            "23\n",
            "22\n",
            "21\n",
            "20\n",
            "19\n",
            "18\n",
            "17\n",
            "16\n",
            "15\n",
            "14\n",
            "13\n",
            "12\n",
            "11\n",
            "10\n",
            "9\n",
            "8\n",
            "7\n",
            "6\n",
            "5\n",
            "4\n",
            "3\n",
            "2\n",
            "1\n"
          ]
        }
      ]
    },
    {
      "cell_type": "code",
      "source": [
        "# Mengakses ekemen dan indeks secara bersamaan\n",
        "# Memodifikasi agar dapat mencetak nama kelurahan di kota Batam\n",
        "\n",
        "print(\".............        Soal 7        .............\")\n",
        "\n",
        "kelurahan = [\"Baloi Permai\", \"Bengkong Laut\", \"Tiban Baru\", \"Batu Besar\", \"Kabil \", \"Belian\", \"Sadai\"]\n",
        "\n",
        "for i , nama in enumerate (kelurahan)  :\n",
        "    print(f\" kelurahan ke-{i + 1}: {nama}\")"
      ],
      "metadata": {
        "colab": {
          "base_uri": "https://localhost:8080/"
        },
        "id": "iwzBGveilYR6",
        "outputId": "c8e46354-54af-49bf-85c6-763252084de1"
      },
      "execution_count": null,
      "outputs": [
        {
          "output_type": "stream",
          "name": "stdout",
          "text": [
            ".............        Soal 7        .............\n",
            " kelurahan ke-1: Baloi Permai\n",
            " kelurahan ke-2: Bengkong Laut\n",
            " kelurahan ke-3: Tiban Baru\n",
            " kelurahan ke-4: Batu Besar\n",
            " kelurahan ke-5: Kabil \n",
            " kelurahan ke-6: Belian\n",
            " kelurahan ke-7: Sadai\n"
          ]
        }
      ]
    },
    {
      "cell_type": "code",
      "source": [
        "# Kontrol perutangan dengan break\n",
        "# Memodifikasi agar berhenti ketika terdapat angka 0 pada variavle data_angka\n",
        "print(\".............        Soal 8      .............\")\n",
        "data_angka = [10, 20, 30, 0, 50, 60]\n",
        "\n",
        "for angka in data_angka:\n",
        "    if angka == 0:\n",
        "        break\n",
        "    print(angka)\n",
        "\n",
        "print(\"Program berhenti karena angka 0 ditemukan.\")"
      ],
      "metadata": {
        "colab": {
          "base_uri": "https://localhost:8080/"
        },
        "id": "UH4tm9Eglq1S",
        "outputId": "c74fb24e-87f5-4378-c9c2-457d3ce38679"
      },
      "execution_count": 13,
      "outputs": [
        {
          "output_type": "stream",
          "name": "stdout",
          "text": [
            ".............        Soal 8      .............\n",
            "10\n",
            "20\n",
            "30\n",
            "Program berhenti karena angka 0 ditemukan.\n"
          ]
        }
      ]
    },
    {
      "cell_type": "code",
      "source": [
        "# Penambahan berkelanjutan dengan batas\n",
        "print(\".............        Soal 9      .............\")\n",
        "total = 0\n",
        "bilangan = 1\n",
        "batas = 20\n",
        "\n",
        "while total <= batas:\n",
        "    total += bilangan\n",
        "    bilangan += 1\n",
        "\n",
        "print(\"Total terakhir:\", total)"
      ],
      "metadata": {
        "id": "0TA8Uju4lyXO",
        "colab": {
          "base_uri": "https://localhost:8080/"
        },
        "outputId": "e4fe0bf4-b02e-477e-9b38-5b6b7fc3d5df"
      },
      "execution_count": 14,
      "outputs": [
        {
          "output_type": "stream",
          "name": "stdout",
          "text": [
            ".............        Soal 9      .............\n",
            "Total terakhir: 21\n"
          ]
        }
      ]
    },
    {
      "cell_type": "code",
      "source": [
        "#\tPerulangan bersarang (nested loop) sederhana\n",
        "print (\"--- Soal 10 ---\")\n",
        "jumlah_baris = 3\n",
        "\n",
        "for baris in range(jumlah_baris):\n",
        "    baris_teks = \"\"\n",
        "    for kolom in range (1):\n",
        "        baris_teks += \"Python \"\n",
        "    print(baris_teks)\n",
        "\n",
        "# Output:\n",
        "# Python\n",
        "# Python\n",
        "# Python"
      ],
      "metadata": {
        "id": "8T98GgC6l69J",
        "colab": {
          "base_uri": "https://localhost:8080/"
        },
        "outputId": "1b90237c-a933-4c2f-a3ef-c0245ce81f05"
      },
      "execution_count": 15,
      "outputs": [
        {
          "output_type": "stream",
          "name": "stdout",
          "text": [
            "--- Soal 10 ---\n",
            "Python \n",
            "Python \n",
            "Python \n"
          ]
        }
      ]
    }
  ],
  "metadata": {
    "colab": {
      "provenance": [],
      "authorship_tag": "ABX9TyPxXOaSYPkKC51BPo8PQUtE",
      "include_colab_link": true
    },
    "kernelspec": {
      "display_name": "Python 3",
      "name": "python3"
    },
    "language_info": {
      "name": "python"
    }
  },
  "nbformat": 4,
  "nbformat_minor": 0
}